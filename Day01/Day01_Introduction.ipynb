{
 "cells": [
  {
   "cell_type": "markdown",
   "id": "69472725-9afe-4661-b226-72d0fc4cd390",
   "metadata": {},
   "source": [
    "### Introduction to Python\n",
    "Starting with hello world program"
   ]
  },
  {
   "cell_type": "code",
   "execution_count": 2,
   "id": "234ddf52-1a84-4fd4-818d-4fb88c3b06ac",
   "metadata": {},
   "outputs": [
    {
     "name": "stdout",
     "output_type": "stream",
     "text": [
      "Hello, World\n"
     ]
    }
   ],
   "source": [
    "print(\"Hello, World\")"
   ]
  },
  {
   "cell_type": "markdown",
   "id": "b5206082-eca1-472f-bd56-27b501282f25",
   "metadata": {},
   "source": [
    "print() - is a built in python function used to display output on the screen. \n",
    "\"Hello world\" is a string (text data) enclosed in quotes. Anything inside \"\" or '' is treated as text. "
   ]
  },
  {
   "cell_type": "code",
   "execution_count": 17,
   "id": "8998b063-ff87-4f74-bb57-e407fa955e25",
   "metadata": {},
   "outputs": [
    {
     "name": "stdout",
     "output_type": "stream",
     "text": [
      "3.11.8 | packaged by conda-forge | (main, Feb 16 2024, 20:40:50) [MSC v.1937 64 bit (AMD64)]\n"
     ]
    }
   ],
   "source": [
    "# import sys --> Loads the built-in sys module, which provides access to some system-level info (like version, paths, etc.)\n",
    "# print(sys.version) --> Prints the full version of Python your notebook/kernel is using, including build and compiler info\n",
    "\n",
    "import sys\n",
    "print(sys.version)"
   ]
  },
  {
   "cell_type": "code",
   "execution_count": 15,
   "id": "dfcd822f-1d27-4a5d-98cc-0c750bb2f728",
   "metadata": {},
   "outputs": [
    {
     "name": "stdout",
     "output_type": "stream",
     "text": [
      "3.11.8\n"
     ]
    }
   ],
   "source": [
    "# import platform --> Loads the built-in platform module, which lets you access information about the system and Python runtime.\n",
    "# platform.python_version() --> returns only the Python version number as a string (e.g., '3.11.5') \n",
    "\n",
    "import platform\n",
    "print(platform.python_version())"
   ]
  },
  {
   "cell_type": "markdown",
   "id": "04deea02-eee8-4369-b70a-800fb78a26bc",
   "metadata": {},
   "source": [
    "### Comments in python"
   ]
  },
  {
   "cell_type": "raw",
   "id": "1463ad80-f392-4a54-bab2-4df7eeeb69c1",
   "metadata": {},
   "source": [
    "1. Single-Line Comment\n",
    "Use # at the beginning of the line."
   ]
  },
  {
   "cell_type": "code",
   "execution_count": 22,
   "id": "dd8ec3a6-99f1-45eb-871c-daa288e598cb",
   "metadata": {},
   "outputs": [
    {
     "name": "stdout",
     "output_type": "stream",
     "text": [
      "Hello, World!\n"
     ]
    }
   ],
   "source": [
    "# This is a single-line comment\n",
    "\n",
    "print(\"Hello, World!\")  # This comment is at the end of a line"
   ]
  },
  {
   "cell_type": "raw",
   "id": "8c41d958-151a-4b94-b077-eb0a88f16c61",
   "metadata": {},
   "source": [
    "2. Multi-Line Comment (Using # multiple times)"
   ]
  },
  {
   "cell_type": "code",
   "execution_count": 29,
   "id": "a2c4548b-a8fe-471d-9eac-8d353f83e599",
   "metadata": {},
   "outputs": [
    {
     "name": "stdout",
     "output_type": "stream",
     "text": [
      "Hello, World!\n"
     ]
    }
   ],
   "source": [
    "# You can use triple quotes (''' or \"\"\") to write multi-line notes:\n",
    "'''\n",
    "This is a multi-line string\n",
    "Often used for documentation\n",
    "But it is not a true comment\n",
    "'''\n",
    "# or\n",
    "\n",
    "\"\"\"\n",
    "this is other form of \n",
    "multiline comments \n",
    "in python\n",
    "\"\"\"\n",
    "print(\"Hello, World!\")"
   ]
  },
  {
   "cell_type": "code",
   "execution_count": 31,
   "id": "39af98d8-ffea-47a4-bf6b-a5fa1a90dd16",
   "metadata": {},
   "outputs": [
    {
     "name": "stdout",
     "output_type": "stream",
     "text": [
      "Hello, World!\n"
     ]
    }
   ],
   "source": [
    "# This is a comment\n",
    "# that spans multiple\n",
    "# lines using \n",
    "\n",
    "print(\"Hello, World!\")"
   ]
  }
 ],
 "metadata": {
  "kernelspec": {
   "display_name": "Python [conda env:Orange]",
   "language": "python",
   "name": "conda-env-Orange-py"
  },
  "language_info": {
   "codemirror_mode": {
    "name": "ipython",
    "version": 3
   },
   "file_extension": ".py",
   "mimetype": "text/x-python",
   "name": "python",
   "nbconvert_exporter": "python",
   "pygments_lexer": "ipython3",
   "version": "3.11.8"
  }
 },
 "nbformat": 4,
 "nbformat_minor": 5
}
